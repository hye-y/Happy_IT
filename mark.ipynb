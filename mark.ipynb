{
 "cells": [
  {
   "cell_type": "code",
   "execution_count": null,
   "metadata": {},
   "outputs": [],
   "source": []
  },
  {
   "cell_type": "markdown",
   "metadata": {},
   "source": [
    "# 제목1 \n",
    "\n",
    "제목\n",
    "============\n",
    "부제목\n",
    "------------\n",
    "------------\n",
    "\n",
    "\n",
    "# h1\n",
    "### h3\n",
    "###### h6\n",
    "\n",
    "인용문이나 특수한 멘트에 넣어줌\n",
    "> content1\n",
    ">   >content2\n",
    ">   >   >content3\n",
    "\n",
    "\n"
   ]
  },
  {
   "cell_type": "markdown",
   "metadata": {},
   "source": [
    "## list\n",
    "\n",
    "1. 첫번째\n",
    "2. 두번째\n",
    "3. 세번째\n",
    "\n",
    "* 리스트1\n",
    "    * 리스트2\n",
    "    - 리스트 2.1\n",
    "        * 리스트3\n",
    "\n",
    "        + 리스트4\n",
    "        * 리스트\n",
    "\n"
   ]
  },
  {
   "cell_type": "markdown",
   "metadata": {},
   "source": [
    "### code\n",
    "\n",
    "```python\n",
    "i = 0\n",
    "i + 1\n",
    "print(i)\n",
    "```\n",
    "\n",
    "cod end"
   ]
  },
  {
   "cell_type": "markdown",
   "metadata": {},
   "source": [
    "----------------------------\n",
    "******************************\n"
   ]
  },
  {
   "cell_type": "markdown",
   "metadata": {},
   "source": [
    "html에서 쓰는 형식을 쓸 수 있음 \n",
    "-링크 삽입가능\n",
    "\n"
   ]
  },
  {
   "cell_type": "markdown",
   "metadata": {},
   "source": [
    "[Google][googlelink]\n",
    "\n",
    "[googlelink]: http://www.google.com "
   ]
  },
  {
   "cell_type": "markdown",
   "metadata": {},
   "source": [
    "이미지 넣기 ex)픽사베이는 저작권 문제 없음\n",
    "\n",
    "\n",
    "![Alt text](https://dimg.donga.com/wps/NEWS/IMAGE/2022/01/28/111500268.2.jpg) \n",
    "-> 사이즈 조절이 안되서 이미지 태그로 너비랑 높이 조절"
   ]
  },
  {
   "cell_type": "markdown",
   "metadata": {},
   "source": [
    "<img src = \"https://dimg.donga.com/wps/NEWS/IMAGE/2022/01/28/111500268.2.jpg\" width = \"40%\">"
   ]
  },
  {
   "cell_type": "markdown",
   "metadata": {},
   "source": []
  }
 ],
 "metadata": {
  "interpreter": {
   "hash": "5d240ba0dc525c389faa33f5dcce5b4f32b6d6aa6d70d6d2dd929bd2b09ab69f"
  },
  "kernelspec": {
   "display_name": "Python 3.10.4 64-bit",
   "language": "python",
   "name": "python3"
  },
  "language_info": {
   "codemirror_mode": {
    "name": "ipython",
    "version": 3
   },
   "file_extension": ".py",
   "mimetype": "text/x-python",
   "name": "python",
   "nbconvert_exporter": "python",
   "pygments_lexer": "ipython3",
   "version": "3.10.4"
  },
  "orig_nbformat": 4
 },
 "nbformat": 4,
 "nbformat_minor": 2
}

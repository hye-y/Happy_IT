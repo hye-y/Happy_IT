{
 "cells": [
  {
   "cell_type": "markdown",
   "metadata": {},
   "source": [
    "***#Model Selection 모듈 소개*** (100p~ 117p)\n",
    "---\n",
    "###### (사이킷런의 model_selection 모듈은 학습 데이터와 테스트 데이터 세트를 분리하거나 교차 검증 분할 및 평가, Estimator의 하이퍼 파라미터를 튜닝하기 위한 다양한 함수와 클래스를 제공한다.)\n",
    "\n",
    "### **[목차]**\n",
    "#### 1. 학습/테스트 데이터 세트 분리 \n",
    "#### 2. 교차검증\n",
    "        1. k-fold\n",
    "        2. Stratified KFold \n",
    "#### 3. GridSearchCV\n",
    "----------------------------------------"
   ]
  },
  {
   "cell_type": "code",
   "execution_count": 19,
   "metadata": {},
   "outputs": [],
   "source": [
    "from sklearn.tree import DecisionTreeClassifier\n",
    "from sklearn.metrics import accuracy_score\n",
    "from sklearn.datasets import load_iris\n",
    "from sklearn.model_selection import train_test_split\n",
    "\n",
    "import numpy as np\n",
    "import pandas as pd"
   ]
  },
  {
   "cell_type": "markdown",
   "metadata": {},
   "source": [
    "### **1. 학습/테스트 데이터 세트 분리**\n",
    "> ### [`sklearn.model_selection`](https://scikit-learn.org/stable/modules/classes.html#module-sklearn.model_selection \"sklearn.model_selection\").train_test_split[](https://scikit-learn.org/stable/modules/generated/sklearn.model_selection.train_test_split.html#sklearn-model-selection-train-test-split \"Permalink to this headline\")\n",
    "\n",
    "sklearn.model_selection.train_test_split(_*arrays_,  _test_size=None_,  _train_size=None_,  _random_state=None_,  _shuffle=True_,  _stratify=None_)\n",
    "\n",
    "\n",
    ">>parameters\n",
    "\n",
    "* **arrays** : sequence of indexables with same length / shape[0]\n",
    "\n",
    "허용되는 입력은 목록, numpy 배열, scipy-sparse 행렬 또는 팬더 데이터 프레임입니다.\n",
    "\n",
    "\n",
    "* **test_size** : float or int, default=None\n",
    "\n",
    "부동인 경우 0.0과 1.0 사이여야 하며 시험 분할에 포함할 데이터 집합의 비율을 나타냅니다.<br/>\n",
    "int인 경우 검정 표본의 절대 수를 나타냅니다. 없음인 경우 이 값은 열차 크기의 보수로 설정됩니다. train_size도 None이면 0.25로 설정됩니다.<br/>\n",
    "\n",
    "* **train_size** : float or int, default=None\n",
    "\n",
    "플로트인 경우 0.0과 1.0 사이여야 하며 훈련데이터 분할에 포함할 데이터 세트의 비율을 나타냅니다. int인 경우 훈련데이터 샘플의 절대 수를 나타냅니다. 없음인 경우 값은 테스트 크기의 보수로 자동으로 설정됩니다.\n",
    "\n",
    "* **random_state** : int, RandomState instance or None, default=None\n",
    "\n",
    "분할을 적용하기 전에 데이터에 적용되는 셔플링을 제어합니다. "
   ]
  },
  {
   "cell_type": "code",
   "execution_count": 20,
   "metadata": {},
   "outputs": [
    {
     "name": "stdout",
     "output_type": "stream",
     "text": [
      "예측 정확도 :0.9555555555555556\n"
     ]
    }
   ],
   "source": [
    "dt_clf = DecisionTreeClassifier(random_state = 156)\n",
    "iris = load_iris()\n",
    "\n",
    "\n",
    "#붓꽃 데이터의 세트의 테스트 데이터를 전체의 30% , 학습데이터 세트를 70%로 분리 \n",
    "X_train, X_test, y_train, y_test = train_test_split(iris.data , iris.target, test_size = 0.3 , random_state= 121)\n",
    "\n",
    "dt_clf.fit(X_train, y_train)\n",
    "pred = dt_clf.predict(X_test)\n",
    "print(f'예측 정확도 :{accuracy_score(y_test,pred)}')"
   ]
  },
  {
   "cell_type": "markdown",
   "metadata": {},
   "source": [
    "-------------------위의 결과 해석-------------------  <br>\n",
    "X_test로 예측을 수행한 결과 정확도가 0.96이다. 붓꽃 데이터는 150개 데이터로 데이터 양이 많지 않아 전체의 30%정도인 테스트 데이터는 45개.<br>\n",
    "이를 통해 알고리즘의 예측 성능을 판단하기에는 적절하지 않음. 학습을 위한 데이터의 양을 일정 수준 이상으로 보장하는것도 중요하지만, <br>\n",
    "**학습된 모델에 대해 다양한 데이터를 기반으로 예측 성능을 평가하는것도 중요**"
   ]
  },
  {
   "cell_type": "markdown",
   "metadata": {},
   "source": [
    "### **2. 교차검증**\n",
    "\n",
    "* 배경 : 고정된 학습데이터와 테스트 데이터로 평가를 하면 테스트 데이터에만 최적의 성능을 발휘할 수 있도록 편향되는 과적합이 발생됨 <br>\n",
    "* 의미 : 데이터 편증을 막기 위해 별도의 여러 세트로 구성된 학습 데이터와 검증 데이터 세트에서 학습과 평가를 수행<br>\n",
    "　　　각 세트에서 수행한 평가 결과에 따라 하이퍼 파라미터 튜닝 등의 모델 최적화를 손쉽게 할 수 있음 \n",
    "    #### **1) k폴드 교차 검증**\n",
    "            : K개의 데이터 폴드 세트를 만들어서 K번 만큼 각 폴트 세트에 학습과 검증 평가를 반복적으로 수행하는 방법"
   ]
  },
  {
   "cell_type": "markdown",
   "metadata": {},
   "source": [
    "> #### [`sklearn.model_selection`](https://scikit-learn.org/stable/modules/classes.html#module-sklearn.model_selection \"sklearn.model_selection\").KFold[](https://scikit-learn.org/stable/modules/generated/sklearn.model_selection.KFold.html#sklearn-model-selection-kfold \"Permalink to this headline\")\n",
    "\n",
    "_class_ sklearn.model_selection.KFold(_n_splits=5_,  _*_,  _shuffle=False_,  _random_state=None_) \n",
    "\n",
    ">> **Parameters**\n",
    "\n",
    "* **n_splits** : int, default=5\n",
    "\n",
    "Number of folds. Must be at least 2.\n",
    "\n",
    "Changed in version 0.22: `n_splits`  default value changed from 3 to 5.\n",
    "\n",
    "* **shuffle** : bool, default=False\n",
    "\n",
    "Whether to shuffle the data before splitting into batches. Note that the samples within each split will not be shuffled.\n",
    "\n",
    "* **random_state**:  int, RandomState instance or None, default=None\n",
    "\n",
    "When  `shuffle`  is True,  `random_state`  affects the ordering of the indices, which controls the randomness of each fold. Otherwise, this parameter has no effect. Pass an int for reproducible output across multiple function calls. "
   ]
  },
  {
   "cell_type": "markdown",
   "metadata": {},
   "source": [
    "\\- **5개의 폴드 세트로 분리** 하는 **K-Fold객체**와 폴드 세트별 정확도를 담을 리스트 객체 생성"
   ]
  },
  {
   "cell_type": "code",
   "execution_count": 30,
   "metadata": {},
   "outputs": [
    {
     "name": "stdout",
     "output_type": "stream",
     "text": [
      "붓꽃 데이터 세트 크기 : 150\n"
     ]
    }
   ],
   "source": [
    "from sklearn.model_selection import KFold\n",
    "features = iris.data\n",
    "label = iris.target\n",
    "\n",
    "kfold = KFold(n_splits= 5)\n",
    "cv_accuracy = []\n",
    "print('붓꽃 데이터 세트 크기 :', features.shape[0])"
   ]
  },
  {
   "cell_type": "code",
   "execution_count": null,
   "metadata": {},
   "outputs": [],
   "source": [
    "#kfold를 적용시킨 kold에 split을 통해 쪼갠다.\n",
    "#feature(X)도 X_train , X_test로 쪼개니\n",
    "kfold.split(features)\n",
    "for i in kfold.split(features):\n",
    "    print(i)"
   ]
  },
  {
   "cell_type": "code",
   "execution_count": null,
   "metadata": {},
   "outputs": [],
   "source": [
    "#4:1비율로 쪼개진 array를 각각 train의 index, test의 index로 받는다.\n",
    "for train_index, test_index in kfold.split(features):\n",
    "    print(train_index)\n",
    "    print(test_index)"
   ]
  },
  {
   "cell_type": "markdown",
   "metadata": {},
   "source": [
    "\\- Fold(n_splits = 5)로 KFold 객체를 생성했으니<br> \n",
    "이제 생성된 **KFold 객체의 split()을 호출해** 전체 붓꽃 데이터를 **5개의 폴드 데이터 세트로 분리**한다"
   ]
  },
  {
   "cell_type": "code",
   "execution_count": 53,
   "metadata": {},
   "outputs": [
    {
     "name": "stdout",
     "output_type": "stream",
     "text": [
      "*1차 교차 검증 정확도 1.0 , 학습데이터 크기 120 , 검증 크기 30\n",
      "1차 검증세트 인덱스[ 0  1  2  3  4  5  6  7  8  9 10 11 12 13 14 15 16 17 18 19 20 21 22 23\n",
      " 24 25 26 27 28 29]\n",
      "*2차 교차 검증 정확도 0.9667 , 학습데이터 크기 120 , 검증 크기 30\n",
      "2차 검증세트 인덱스[30 31 32 33 34 35 36 37 38 39 40 41 42 43 44 45 46 47 48 49 50 51 52 53\n",
      " 54 55 56 57 58 59]\n",
      "*3차 교차 검증 정확도 0.8667 , 학습데이터 크기 120 , 검증 크기 30\n",
      "3차 검증세트 인덱스[60 61 62 63 64 65 66 67 68 69 70 71 72 73 74 75 76 77 78 79 80 81 82 83\n",
      " 84 85 86 87 88 89]\n",
      "*4차 교차 검증 정확도 0.9333 , 학습데이터 크기 120 , 검증 크기 30\n",
      "4차 검증세트 인덱스[ 90  91  92  93  94  95  96  97  98  99 100 101 102 103 104 105 106 107\n",
      " 108 109 110 111 112 113 114 115 116 117 118 119]\n",
      "*5차 교차 검증 정확도 0.7333 , 학습데이터 크기 120 , 검증 크기 30\n",
      "5차 검증세트 인덱스[120 121 122 123 124 125 126 127 128 129 130 131 132 133 134 135 136 137\n",
      " 138 139 140 141 142 143 144 145 146 147 148 149]\n",
      "\n",
      " ##평균 검증 정확도: 0.9\n"
     ]
    }
   ],
   "source": [
    "#kfold를 적용시킨 kold에 split을 통해 5겹, 4:1로 쪼갠다.\n",
    "#feature(X)도 X_train , X_test로 쪼개니\n",
    "#4:1비율로 쪼개진 array를 각각 train의 index, test의 index로 받는다.\n",
    "n_iter = 0 \n",
    "\n",
    "for train_index, test_index in kfold.split(features):\n",
    "    #정리해보면 kfold.split 는 인덱스 번호 추출\n",
    "    # 그래서 인덱스 번호 추출 후 다시 데이터 뽑아야 함\n",
    "    X_train, X_test = features[train_index], features[test_index]\n",
    "    y_train, y_test = label[train_index], label[test_index]\n",
    "    \n",
    "    dt_clf.fit(X_train, y_train) #학습\n",
    "    pred=dt_clf.predict(X_test)  #예측\n",
    "\n",
    "    #반복 시 마다 정확도 측정\n",
    "    n_iter += 1\n",
    "    accuracy = np.round(accuracy_score(y_test,pred),4) \n",
    " \n",
    "    train_size = X_train.shape[0] #X_train의 행 개수 = 120 \n",
    "                                  #몇차원 배열 인지를 알려주는거: shape 120 , 4  120행 4열\n",
    "    test_size = X_test.shape[0]  #X_test의 행 개수 = 30\n",
    "\n",
    "\n",
    "    print(f'*{n_iter}차 교차 검증 정확도 {accuracy} , 학습데이터 크기 {train_size} , 검증 크기 {test_size}')\n",
    "    print(f'{n_iter}차 검증세트 인덱스{test_index}')\n",
    "    cv_accuracy.append(accuracy)\n",
    "\n",
    "#개별 iteration별 정확도를 합하여 평균 정확도 계산\n",
    "print(f'\\n ##평균 검증 정확도: {np.mean(cv_accuracy)}')"
   ]
  },
  {
   "cell_type": "markdown",
   "metadata": {},
   "source": [
    "```\n",
    "참고\n",
    "a = np.array( [ [1,2,3],[4,5,6],[7,8,9],[10,11,12] ])\n",
    "  -> a 는 3 x 3 행렬로 구성됨.\n",
    "print(a.shape)\n",
    "  -> print 결과는 (4,3 ) 임.\n",
    "추가로 shape[0], shape[1]를 이용하여 \n",
    "전체 행의 갯수(3)와 열의 갯수(4)를 반환받을 수 있다.\n",
    "```"
   ]
  },
  {
   "cell_type": "markdown",
   "metadata": {},
   "source": [
    "\n",
    "#### **2) Stratified k폴드 교차 검증**\n",
    ": 불균형한(imbalanced)분포도를 가진 레이블(결정클래스) 데이터 집합을 위한 K폴드 방식 <br>\n",
    ": 레이블 값으로 특정 개별 반복별 학습/테스트 데이트에는 상대적으로 많이 들어있고, 다른 반복 학습/데스트 데이터 세트에는 그렇지 못한 결과 발생<br>\n",
    "**-->원본 데이터와 유사한 레이블 값의 분포를 학습/테스트에도 유지하는게 매우 중요**<br>\n",
    "\n",
    "            "
   ]
  },
  {
   "cell_type": "code",
   "execution_count": null,
   "metadata": {},
   "outputs": [],
   "source": []
  },
  {
   "cell_type": "markdown",
   "metadata": {},
   "source": [
    "### **3. GridSearchCV**"
   ]
  },
  {
   "cell_type": "markdown",
   "metadata": {},
   "source": []
  }
 ],
 "metadata": {
  "interpreter": {
   "hash": "5d240ba0dc525c389faa33f5dcce5b4f32b6d6aa6d70d6d2dd929bd2b09ab69f"
  },
  "kernelspec": {
   "display_name": "Python 3.10.4 64-bit",
   "language": "python",
   "name": "python3"
  },
  "language_info": {
   "codemirror_mode": {
    "name": "ipython",
    "version": 3
   },
   "file_extension": ".py",
   "mimetype": "text/x-python",
   "name": "python",
   "nbconvert_exporter": "python",
   "pygments_lexer": "ipython3",
   "version": "3.10.4"
  },
  "orig_nbformat": 4
 },
 "nbformat": 4,
 "nbformat_minor": 2
}

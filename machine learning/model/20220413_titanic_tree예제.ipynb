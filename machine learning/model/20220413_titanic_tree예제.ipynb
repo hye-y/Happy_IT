{
 "cells": [
  {
   "cell_type": "code",
   "execution_count": 3,
   "metadata": {},
   "outputs": [],
   "source": [
    "import numpy as np\n",
    "import pandas as pd\n",
    "import matplotlib.pyplot as plt\n",
    "import seaborn as sns\n",
    "from modules import DtPre\n",
    "\n",
    "from sklearn.model_selection import train_test_split\n",
    "from sklearn.tree import DecisionTreeClassifier\n",
    "from sklearn.linear_model import LogisticRegression\n",
    "from sklearn.metrics import accuracy_score"
   ]
  },
  {
   "cell_type": "code",
   "execution_count": null,
   "metadata": {},
   "outputs": [],
   "source": [
    "# from sklearn.preprocessing import LabelEncoder\n",
    "\n",
    "# def fillna(df) :\n",
    "#     df[\"Age\"].fillna(df[\"Age\"].mean(), inplace=True)\n",
    "#     df[\"Cabin\"].fillna(\"N\", inplace=True)\n",
    "#     df[\"Embarked\"].fillna(\"N\", inplace=True)\n",
    "#     df[\"Fare\"].fillna(0, inplace=True)\n",
    "#     return df\n",
    "\n",
    "# def drop_features(df) :\n",
    "#     df.drop([\"PassengerId\", \"Name\", \"Ticket\"], axis=1, inplace=True)\n",
    "#     return df\n",
    "\n",
    "# def format_features(df) :\n",
    "#     df[\"Cabin\"] = df[\"Cabin\"].str[:1] \n",
    "#     features = [\"Cabin\", \"Sex\", \"Embarked\"]\n",
    "#     for feature in features :\n",
    "#         le = LabelEncoder()\n",
    "#         le = le.fit(df[feature])\n",
    "#         df[feature] = le.transform(df[feature])\n",
    "#     return df\n",
    "    \n",
    "# def transform_features(df) :\n",
    "#     df = fillna(df)\n",
    "#     df = drop_features(df)\n",
    "#     df = format_features(df)\n",
    "#     return df"
   ]
  },
  {
   "cell_type": "code",
   "execution_count": 4,
   "metadata": {},
   "outputs": [],
   "source": [
    "titanic_df = pd.read_csv(\"./dataset/train.csv\")\n",
    "y_titanic_df = titanic_df[\"Survived\"]   # 레이블 데이터 셋 추출\n",
    "X_titanic_df = titanic_df.drop(\"Survived\", axis=1)  # 피쳐 데이터 셋에서 레이블셋은 삭제\n",
    "\n",
    "X_titanic_df = DtPre.transform_features(X_titanic_df) # 만들어둔 전처리 함수 적용"
   ]
  },
  {
   "cell_type": "code",
   "execution_count": null,
   "metadata": {},
   "outputs": [],
   "source": []
  },
  {
   "cell_type": "code",
   "execution_count": 5,
   "metadata": {},
   "outputs": [
    {
     "data": {
      "text/plain": [
       "DecisionTreeClassifier(random_state=121)"
      ]
     },
     "execution_count": 5,
     "metadata": {},
     "output_type": "execute_result"
    }
   ],
   "source": [
    "titanic_clf = DecisionTreeClassifier(random_state=121)\n",
    "\n",
    "X_train, X_test, y_train, y_test = train_test_split(X_titanic_df, y_titanic_df,\n",
    "                                                    test_size=0.2, random_state=121)\n",
    "\n",
    "titanic_clf.fit(X_train, y_train)"
   ]
  },
  {
   "cell_type": "code",
   "execution_count": 6,
   "metadata": {},
   "outputs": [
    {
     "name": "stdout",
     "output_type": "stream",
     "text": [
      "Feature Importance : [0.074 0.32  0.224 0.049 0.033 0.223 0.056 0.022]\n",
      "Pclass : 0.074\n",
      "Sex : 0.320\n",
      "Age : 0.224\n",
      "SibSp : 0.049\n",
      "Parch : 0.033\n",
      "Fare : 0.223\n",
      "Cabin : 0.056\n",
      "Embarked : 0.022\n"
     ]
    },
    {
     "data": {
      "text/plain": [
       "<AxesSubplot:>"
      ]
     },
     "execution_count": 6,
     "metadata": {},
     "output_type": "execute_result"
    },
    {
     "data": {
      "image/png": "[encoded data removed]",
      "text/plain": [
       "<Figure size 432x288 with 1 Axes>"
      ]
     },
     "metadata": {
      "needs_background": "light"
     },
     "output_type": "display_data"
    }
   ],
   "source": [
    "# feature importance 추출\n",
    "print(f\"Feature Importance : {np.round(titanic_clf.feature_importances_, 3)}\")\n",
    "\n",
    "# feature 별 importance 매핑\n",
    "features = []\n",
    "for name, value in zip(X_titanic_df.columns, titanic_clf.feature_importances_) :\n",
    "    print(f\"{name} : {value:.3f}\")\n",
    "    features.append({name : np.round(value, 3)})\n",
    "\n",
    "# feature importance를 column별로 시각화 하기\n",
    "sns.barplot(x=titanic_clf.feature_importances_, y=X_titanic_df.columns)"
   ]
  },
  {
   "cell_type": "code",
   "execution_count": 7,
   "metadata": {},
   "outputs": [
    {
     "name": "stdout",
     "output_type": "stream",
     "text": [
      "0.777\n"
     ]
    },
    {
     "name": "stderr",
     "output_type": "stream",
     "text": [
      "C:\\Users\\user\\AppData\\Local\\Programs\\Python\\Python310\\lib\\site-packages\\sklearn\\linear_model\\_logistic.py:814: ConvergenceWarning: lbfgs failed to converge (status=1):\n",
      "STOP: TOTAL NO. of ITERATIONS REACHED LIMIT.\n",
      "\n",
      "Increase the number of iterations (max_iter) or scale the data as shown in:\n",
      "    https://scikit-learn.org/stable/modules/preprocessing.html\n",
      "Please also refer to the documentation for alternative solver options:\n",
      "    https://scikit-learn.org/stable/modules/linear_model.html#logistic-regression\n",
      "  n_iter_i = _check_optimize_result(\n"
     ]
    }
   ],
   "source": [
    "titanic_lr = LogisticRegression()\n",
    "\n",
    "titanic_lr.fit(X_train, y_train)\n",
    "\n",
    "pred_all = titanic_lr.predict(X_test)\n",
    "\n",
    "print(np.round(accuracy_score(y_test, pred_all),3))"
   ]
  },
  {
   "cell_type": "code",
   "execution_count": 8,
   "metadata": {},
   "outputs": [],
   "source": [
    "X_train_feat = X_train[[\"Pclass\", \"Sex\", \"Age\", \"Fare\", \"Cabin\"]]\n",
    "X_test_feat = X_test[[\"Pclass\", \"Sex\", \"Age\", \"Fare\", \"Cabin\"]]"
   ]
  },
  {
   "cell_type": "code",
   "execution_count": 9,
   "metadata": {},
   "outputs": [
    {
     "name": "stdout",
     "output_type": "stream",
     "text": [
      "0.782\n"
     ]
    }
   ],
   "source": [
    "titanic_lr_feat = LogisticRegression()\n",
    "\n",
    "titanic_lr_feat.fit(X_train_feat, y_train)\n",
    "\n",
    "pred_feat = titanic_lr_feat.predict(X_test_feat)\n",
    "\n",
    "print(np.round(accuracy_score(y_test, pred_feat),3))"
   ]
  },
  {
   "cell_type": "code",
   "execution_count": null,
   "metadata": {},
   "outputs": [],
   "source": []
  },
  {
   "cell_type": "code",
   "execution_count": null,
   "metadata": {},
   "outputs": [],
   "source": []
  },
  {
   "cell_type": "code",
   "execution_count": null,
   "metadata": {},
   "outputs": [],
   "source": []
  }
 ],
 "metadata": {
  "interpreter": {
   "hash": "5d240ba0dc525c389faa33f5dcce5b4f32b6d6aa6d70d6d2dd929bd2b09ab69f"
  },
  "kernelspec": {
   "display_name": "Python 3.10.2 64-bit",
   "language": "python",
   "name": "python3"
  },
  "language_info": {
   "codemirror_mode": {
    "name": "ipython",
    "version": 3
   },
   "file_extension": ".py",
   "mimetype": "text/x-python",
   "name": "python",
   "nbconvert_exporter": "python",
   "pygments_lexer": "ipython3",
   "version": "3.10.4"
  },
  "orig_nbformat": 4
 },
 "nbformat": 4,
 "nbformat_minor": 2
}

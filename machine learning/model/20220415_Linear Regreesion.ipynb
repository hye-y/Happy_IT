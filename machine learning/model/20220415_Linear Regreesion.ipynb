{
 "cells": [
  {
   "cell_type": "markdown",
   "metadata": {},
   "source": [
    "## sklearn.linear_model.LinearRegression\n",
    "* class sklearn.linear_model.LinearRegression(*, fit_intercept=True, normalize='deprecated', copy_X=True, n_jobs=None, positive=False)"
   ]
  },
  {
   "cell_type": "code",
   "execution_count": 2,
   "metadata": {},
   "outputs": [
    {
     "name": "stdout",
     "output_type": "stream",
     "text": [
      "[67.30998637]\n"
     ]
    },
    {
     "data": {
      "image/png": "[encoded data removed]",
      "text/plain": [
       "<Figure size 432x288 with 1 Axes>"
      ]
     },
     "metadata": {
      "needs_background": "light"
     },
     "output_type": "display_data"
    }
   ],
   "source": [
    "import matplotlib.pylab as plt\n",
    "from sklearn import linear_model\n",
    "\n",
    "reg = linear_model.LinearRegression()\n",
    "\n",
    "X = [[174], [152], [138], [128], [186]] #feature가 여러개 일 수 있어서\n",
    "y = [71, 55,46,38,88]\n",
    "\n",
    "reg.fit(X,y)\n",
    "print(reg.predict([[165]]))\n",
    "\n",
    "#학습데이터와 y값을 산포도로 그린다. \n",
    "plt.scatter(X,y, color = 'black')\n",
    "\n",
    "#학습데이터를 입력으로 하여 예측값을 계산한다.\n",
    "y_pred = reg.predict(X)\n",
    "\n",
    "#학습데이터와 예측값으로 선 그래프로 그린다.\n",
    "#계산된 기울기와 y절편을 가지는 직선이 그려진다.\n",
    "plt.plot(X, y_pred , color = 'blue', linewidth =3)\n",
    "plt.show()"
   ]
  },
  {
   "cell_type": "code",
   "execution_count": null,
   "metadata": {},
   "outputs": [],
   "source": [
    "#당뇨병 예측 선형회귀 하기\n",
    "#보스턴 집 값 예측하기 -> \n",
    "#train : test = 70:30\n",
    "#0:13 -> feature\n",
    "# 13-> label\n",
    "#feature scaling을 한 후\n",
    "#linearRegression 활용해 accuary구하시오 (옵션: roc커브를 그리세요)\n",
    "\n",
    "\n",
    "#random forest 또는 xGBoost를 활용하여 적정한 feature selection을 \n",
    "#xgboost에서 중요한 피쳐 선택해서 선형회귀분석 하기\n",
    "\n",
    "\n"
   ]
  }
 ],
 "metadata": {
  "interpreter": {
   "hash": "5d240ba0dc525c389faa33f5dcce5b4f32b6d6aa6d70d6d2dd929bd2b09ab69f"
  },
  "kernelspec": {
   "display_name": "Python 3.10.4 64-bit",
   "language": "python",
   "name": "python3"
  },
  "language_info": {
   "codemirror_mode": {
    "name": "ipython",
    "version": 3
   },
   "file_extension": ".py",
   "mimetype": "text/x-python",
   "name": "python",
   "nbconvert_exporter": "python",
   "pygments_lexer": "ipython3",
   "version": "3.10.4"
  },
  "orig_nbformat": 4
 },
 "nbformat": 4,
 "nbformat_minor": 2
}

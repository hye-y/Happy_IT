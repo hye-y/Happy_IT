{
 "cells": [
  {
   "cell_type": "markdown",
   "metadata": {},
   "source": [
    "* 1차 단항 피처들의 값이 [x1,x2]  = [0 1] 일 경우\n",
    "* 2차 다항 피처들의 값은 [1, x1 = 0 , x2 = 1, x1*x2 =0 , x1^2 = 0, x2^2 =1] 로 [1,0,1,0,0,1] 6개로 늘려줌"
   ]
  },
  {
   "cell_type": "code",
   "execution_count": 1,
   "metadata": {},
   "outputs": [
    {
     "name": "stdout",
     "output_type": "stream",
     "text": [
      "일차 단항식 계수 features :\n",
      "  [[0 1]\n",
      " [2 3]]\n"
     ]
    }
   ],
   "source": [
    "from sklearn.preprocessing import PolynomialFeatures\n",
    "import numpy as np\n",
    "\n",
    "#다항식으로 변환한 단항식 생성, [[0,1],[2,3]]의 2*2 행렬 생성\n",
    "X= np.arange(4).reshape(2,2)\n",
    "\n",
    "print('일차 단항식 계수 features :\\n ',X)"
   ]
  },
  {
   "cell_type": "code",
   "execution_count": 2,
   "metadata": {},
   "outputs": [
    {
     "name": "stdout",
     "output_type": "stream",
     "text": [
      "변환된 2차 다항식 계수 feature:\n",
      " [[1. 0. 1. 0. 0. 1.]\n",
      " [1. 2. 3. 4. 6. 9.]]\n"
     ]
    }
   ],
   "source": [
    "#degree = 2 인 2차 다항식으로 변환하기 위해 PolynomialFeatures를 이용하여 변환\n",
    "poly = PolynomialFeatures(degree= 2)\n",
    "poly.fit(X)\n",
    "poly_ftr = poly.transform(X)\n",
    "print('변환된 2차 다항식 계수 feature:\\n', poly_ftr)"
   ]
  },
  {
   "cell_type": "code",
   "execution_count": 5,
   "metadata": {},
   "outputs": [
    {
     "name": "stdout",
     "output_type": "stream",
     "text": [
      "일차 단항식 계수 feature: \n",
      " [[0 1]\n",
      " [2 3]]\n",
      "삼차 다항식 결정값: \n",
      " [[ 1  5]\n",
      " [17 43]]\n",
      "3차 다항식 계수 feature: \n",
      " [[ 1.  0.  1.  0.  0.  1.  0.  0.  0.  1.]\n",
      " [ 1.  2.  3.  4.  6.  9.  8. 12. 18. 27.]]\n",
      "Polynomial 회귀계수 \n",
      " [[0.   0.02 0.02 0.05 0.07 0.1  0.1  0.14 0.22 0.31]\n",
      " [0.   0.06 0.06 0.11 0.17 0.23 0.23 0.34 0.51 0.74]]\n",
      "Polynomial 회귀 shape : (2, 10)\n"
     ]
    }
   ],
   "source": [
    "#Linear Regreesion에 3차 다항식 계수feature와 3차 다항식 결정값으로 학습 후 회귀계수 확인\n",
    "from sklearn.linear_model import LinearRegression\n",
    "\n",
    "def polynomial_func(X):\n",
    "    y = 1+ 2*X + X**2+ X**3\n",
    "    return y\n",
    "\n",
    "X =  np.arange(4).reshape(2,2)\n",
    "print('일차 단항식 계수 feature: \\n',X)\n",
    "y = polynomial_func(X)\n",
    "print('삼차 다항식 결정값: \\n',y)\n",
    "\n",
    "poly_ftr = PolynomialFeatures(degree = 3).fit_transform(X)\n",
    "print('3차 다항식 계수 feature: \\n', poly_ftr)\n",
    "\n",
    "#Linear Regreesion에 3차 다항식 계수 feature와 3차 다항식 결정값으로 학습 후 회귀계수 확인\n",
    "model = LinearRegression()\n",
    "model.fit(poly_ftr , y)\n",
    "\n",
    "print('Polynomial 회귀계수 \\n', np.round(model.coef_,2))\n",
    "print('Polynomial 회귀 shape :', model.coef_.shape)"
   ]
  },
  {
   "cell_type": "code",
   "execution_count": 7,
   "metadata": {},
   "outputs": [
    {
     "name": "stdout",
     "output_type": "stream",
     "text": [
      "Polynomial  회귀 계수\n",
      " [[0.   0.02 0.02 0.05 0.07 0.1  0.1  0.14 0.22 0.31]\n",
      " [0.   0.06 0.06 0.11 0.17 0.23 0.23 0.34 0.51 0.74]]\n"
     ]
    }
   ],
   "source": [
    "#파이프라인 이용 다항 회귀\n",
    "\n",
    "from sklearn.preprocessing import PolynomialFeatures\n",
    "from sklearn.linear_model import LinearRegression\n",
    "from sklearn.pipeline import Pipeline\n",
    "\n",
    "def polynomail_func(X):\n",
    "    y = 1 + 2*X + X**2 + X**3\n",
    "    return y\n",
    "\n",
    "#pipeline객체로 streamline하게 Polynomial Feature변환과 Linear Regression을 연결\n",
    "model = Pipeline([('Poly', PolynomialFeatures(degree = 3)),\n",
    "                    ('linear', LinearRegression())])\n",
    "\n",
    "x = np.arange(4).reshape(2,2)\n",
    "y = polynomail_func(X)\n",
    "\n",
    "model = model.fit(X,y)\n",
    "print('Polynomial  회귀 계수\\n', np.round(model.named_steps['linear'].coef_, 2))e"
   ]
  },
  {
   "cell_type": "code",
   "execution_count": null,
   "metadata": {},
   "outputs": [],
   "source": []
  }
 ],
 "metadata": {
  "interpreter": {
   "hash": "5d240ba0dc525c389faa33f5dcce5b4f32b6d6aa6d70d6d2dd929bd2b09ab69f"
  },
  "kernelspec": {
   "display_name": "Python 3.10.4 64-bit",
   "language": "python",
   "name": "python3"
  },
  "language_info": {
   "codemirror_mode": {
    "name": "ipython",
    "version": 3
   },
   "file_extension": ".py",
   "mimetype": "text/x-python",
   "name": "python",
   "nbconvert_exporter": "python",
   "pygments_lexer": "ipython3",
   "version": "3.10.4"
  },
  "orig_nbformat": 4
 },
 "nbformat": 4,
 "nbformat_minor": 2
}
